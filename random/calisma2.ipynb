{
 "cells": [
  {
   "cell_type": "markdown",
   "id": "46c96ac3",
   "metadata": {},
   "source": [
    "Print formatlama "
   ]
  },
  {
   "cell_type": "code",
   "execution_count": null,
   "id": "6069bf70",
   "metadata": {},
   "outputs": [],
   "source": []
  }
 ],
 "metadata": {
  "language_info": {
   "name": "python"
  }
 },
 "nbformat": 4,
 "nbformat_minor": 5
}
