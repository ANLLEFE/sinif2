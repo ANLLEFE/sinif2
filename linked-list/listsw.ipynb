{
 "cells": [
  {
   "cell_type": "code",
   "execution_count": null,
   "id": "91e3f2d6",
   "metadata": {},
   "outputs": [],
   "source": [
    "  class Node():\n",
    "     def __init__(self):\n",
    "           "
   ]
  }
 ],
 "metadata": {
  "language_info": {
   "name": "python"
  }
 },
 "nbformat": 4,
 "nbformat_minor": 5
}
