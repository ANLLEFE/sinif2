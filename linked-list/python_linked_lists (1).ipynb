{
  "cells": [
    {
      "cell_type": "markdown",
      "id": "eligible-kuwait",
      "metadata": {
        "id": "eligible-kuwait"
      },
      "source": [
        "## Problem\n",
        "\n",
        "In this notebook, we'll focus our discussion on the following problem:\n",
        "\n",
        "> **QUESTION**: Write a function to reverse a linked list\n",
        "\n",
        "Before we answer this question, we need to answer:\n",
        "\n",
        "- What do we mean by linked list?\n",
        "- How do we create a linked list in Python?\n",
        "- How do we store numbers in a linked list?\n",
        "- How do we retrieve numbers in a linked list\n"
      ]
    },
    {
      "cell_type": "markdown",
      "id": "banned-tissue",
      "metadata": {
        "id": "banned-tissue"
      },
      "source": [
        "# Introduction to Python Classes and Linked Lists"
      ]
    },
    {
      "cell_type": "markdown",
      "id": "heard-hungary",
      "metadata": {
        "id": "heard-hungary"
      },
      "source": [
        "## A Quick Primer on Classes in Python\n",
        "\n",
        "Let's create a class for it. A class is a blueprint for creating objects."
      ]
    },
    {
      "cell_type": "code",
      "execution_count": null,
      "id": "administrative-spencer",
      "metadata": {
        "id": "administrative-spencer"
      },
      "outputs": [],
      "source": [
        "class Node():\n",
        "    pass"
      ]
    },
    {
      "cell_type": "markdown",
      "id": "pressing-cursor",
      "metadata": {
        "id": "pressing-cursor"
      },
      "source": [
        "We can create an object with nothing in it."
      ]
    },
    {
      "cell_type": "code",
      "execution_count": null,
      "id": "ignored-hearing",
      "metadata": {
        "colab": {
          "base_uri": "https://localhost:8080/"
        },
        "id": "ignored-hearing",
        "outputId": "e61d4560-cb02-4b90-b11d-b63d91522217"
      },
      "outputs": [
        {
          "data": {
            "text/plain": [
              "<__main__.Node at 0x7d052cd29040>"
            ]
          },
          "execution_count": 4,
          "metadata": {},
          "output_type": "execute_result"
        }
      ],
      "source": [
        "Node()"
      ]
    },
    {
      "cell_type": "markdown",
      "id": "future-structure",
      "metadata": {
        "id": "future-structure"
      },
      "source": [
        "We just created an object of the class `Node`. However, we have to have a way to access the object. We can do so by creating a variable."
      ]
    },
    {
      "cell_type": "code",
      "execution_count": null,
      "id": "driven-separate",
      "metadata": {
        "id": "driven-separate"
      },
      "outputs": [],
      "source": [
        "node1 = Node()"
      ]
    },
    {
      "cell_type": "markdown",
      "id": "helpful-roberts",
      "metadata": {
        "id": "helpful-roberts"
      },
      "source": [
        "The *variable* `node1` holds a reference the object, and can be used to retrieve the object."
      ]
    },
    {
      "cell_type": "code",
      "execution_count": null,
      "id": "humanitarian-wireless",
      "metadata": {
        "colab": {
          "base_uri": "https://localhost:8080/"
        },
        "id": "humanitarian-wireless",
        "outputId": "f8e50199-8233-420f-dff6-77630a5a87e3"
      },
      "outputs": [
        {
          "data": {
            "text/plain": [
              "<__main__.Node at 0x7d0540b51f70>"
            ]
          },
          "execution_count": 6,
          "metadata": {},
          "output_type": "execute_result"
        }
      ],
      "source": [
        "node1"
      ]
    },
    {
      "cell_type": "markdown",
      "id": "ready-tours",
      "metadata": {
        "id": "ready-tours"
      },
      "source": [
        "When we call the `Node()` again, it creates a new object."
      ]
    },
    {
      "cell_type": "code",
      "execution_count": null,
      "id": "mature-reflection",
      "metadata": {
        "id": "mature-reflection"
      },
      "outputs": [],
      "source": [
        "node2 = Node()"
      ]
    },
    {
      "cell_type": "code",
      "execution_count": null,
      "id": "naval-ocean",
      "metadata": {
        "colab": {
          "base_uri": "https://localhost:8080/"
        },
        "id": "naval-ocean",
        "outputId": "f5bd628d-4c92-45d5-9319-87d941ab8f8a",
        "scrolled": true
      },
      "outputs": [
        {
          "data": {
            "text/plain": [
              "<__main__.Node at 0x7d0540b50f50>"
            ]
          },
          "execution_count": 8,
          "metadata": {},
          "output_type": "execute_result"
        }
      ],
      "source": [
        "node2"
      ]
    },
    {
      "cell_type": "markdown",
      "id": "tamil-genealogy",
      "metadata": {
        "id": "tamil-genealogy"
      },
      "source": [
        "You can tell that the objects are different because they are at different addresses in the RAM (more on that later)."
      ]
    },
    {
      "cell_type": "markdown",
      "id": "acknowledged-senate",
      "metadata": {
        "id": "acknowledged-senate"
      },
      "source": [
        "We can have multiple variables pointing to the same object."
      ]
    },
    {
      "cell_type": "code",
      "execution_count": null,
      "id": "fabulous-settle",
      "metadata": {
        "id": "fabulous-settle"
      },
      "outputs": [],
      "source": [
        "node3 = node1"
      ]
    },
    {
      "cell_type": "code",
      "execution_count": null,
      "id": "seven-religion",
      "metadata": {
        "colab": {
          "base_uri": "https://localhost:8080/"
        },
        "id": "seven-religion",
        "outputId": "3578c2f8-c73c-487e-eb24-3ef03b2fa39f"
      },
      "outputs": [
        {
          "data": {
            "text/plain": [
              "True"
            ]
          },
          "execution_count": 10,
          "metadata": {},
          "output_type": "execute_result"
        }
      ],
      "source": [
        "node3 is node1"
      ]
    },
    {
      "cell_type": "code",
      "execution_count": null,
      "id": "015cbb5b",
      "metadata": {
        "colab": {
          "base_uri": "https://localhost:8080/"
        },
        "id": "015cbb5b",
        "outputId": "e74cdb64-212f-4c45-d4f3-2bc22de05c90"
      },
      "outputs": [
        {
          "data": {
            "text/plain": [
              "<__main__.Node at 0x7d0540b51f70>"
            ]
          },
          "execution_count": 11,
          "metadata": {},
          "output_type": "execute_result"
        }
      ],
      "source": [
        "node1"
      ]
    },
    {
      "cell_type": "markdown",
      "id": "possible-petroleum",
      "metadata": {
        "id": "possible-petroleum"
      },
      "source": [
        "Our object isn't doing much. Let's give it the ability to store a value. First, we'll store the constant value 0. We can do this using a *constructor*."
      ]
    },
    {
      "cell_type": "code",
      "execution_count": null,
      "id": "stylish-leonard",
      "metadata": {
        "id": "stylish-leonard"
      },
      "outputs": [],
      "source": [
        "class Node():\n",
        "    def __init__(self):\n",
        "        self.data = 0"
      ]
    },
    {
      "cell_type": "markdown",
      "id": "tired-disclaimer",
      "metadata": {
        "id": "tired-disclaimer"
      },
      "source": [
        "Two things to note:\n",
        "* The double underscores\n",
        "* The self (a replacement for `this`)\n",
        "* `self.data` creates a property called. We can name a property anything we wish (`val`, `number`, `the_thing_inside` etc. )"
      ]
    },
    {
      "cell_type": "code",
      "execution_count": null,
      "id": "timely-webmaster",
      "metadata": {
        "id": "timely-webmaster"
      },
      "outputs": [],
      "source": [
        "node4 = Node()"
      ]
    },
    {
      "cell_type": "markdown",
      "id": "iraqi-destination",
      "metadata": {
        "id": "iraqi-destination"
      },
      "source": [
        "So internally what's happening is that Python first creates an empty object, stores the reference to the empty object in an temporary variable called `self`, calls the `__init__` function with `self` as the argument, which then sets the property `data` on the created object with the value 0."
      ]
    },
    {
      "cell_type": "code",
      "execution_count": null,
      "id": "automatic-sodium",
      "metadata": {
        "colab": {
          "base_uri": "https://localhost:8080/"
        },
        "id": "automatic-sodium",
        "outputId": "3b77de3b-e1d7-4010-b713-a7fec5b67816"
      },
      "outputs": [
        {
          "data": {
            "text/plain": [
              "0"
            ]
          },
          "execution_count": 14,
          "metadata": {},
          "output_type": "execute_result"
        }
      ],
      "source": [
        "node4.data"
      ]
    },
    {
      "cell_type": "markdown",
      "id": "uniform-sentence",
      "metadata": {
        "id": "uniform-sentence"
      },
      "source": [
        "And we can change the value inside the variable."
      ]
    },
    {
      "cell_type": "code",
      "execution_count": null,
      "id": "liked-dating",
      "metadata": {
        "id": "liked-dating"
      },
      "outputs": [],
      "source": [
        "node4.data = 10"
      ]
    },
    {
      "cell_type": "code",
      "execution_count": null,
      "id": "collected-entrance",
      "metadata": {
        "colab": {
          "base_uri": "https://localhost:8080/"
        },
        "id": "collected-entrance",
        "outputId": "1450acbd-e430-425a-f163-85e239d48b6e"
      },
      "outputs": [
        {
          "data": {
            "text/plain": [
              "10"
            ]
          },
          "execution_count": 16,
          "metadata": {},
          "output_type": "execute_result"
        }
      ],
      "source": [
        "node4.data"
      ]
    },
    {
      "cell_type": "markdown",
      "id": "tutorial-hurricane",
      "metadata": {
        "id": "tutorial-hurricane"
      },
      "source": [
        "Let's create nodes with the values 2, 3 and 5"
      ]
    },
    {
      "cell_type": "code",
      "execution_count": null,
      "id": "deluxe-desktop",
      "metadata": {
        "id": "deluxe-desktop"
      },
      "outputs": [],
      "source": [
        "node1 = Node()\n",
        "node1.data = 2"
      ]
    },
    {
      "cell_type": "code",
      "execution_count": null,
      "id": "friendly-raising",
      "metadata": {
        "id": "friendly-raising"
      },
      "outputs": [],
      "source": [
        "node2 = Node()\n",
        "node2.data = 3"
      ]
    },
    {
      "cell_type": "code",
      "execution_count": null,
      "id": "dated-frost",
      "metadata": {
        "id": "dated-frost"
      },
      "outputs": [],
      "source": [
        "node3 = Node()\n",
        "node3.data = 5"
      ]
    },
    {
      "cell_type": "code",
      "execution_count": 1,
      "id": "interpreted-steps",
      "metadata": {
        "colab": {
          "base_uri": "https://localhost:8080/",
          "height": 146
        },
        "id": "interpreted-steps",
        "outputId": "b4f260ed-f4e4-4b10-b0fa-5d916a638ab4"
      },
      "outputs": [
        {
          "ename": "NameError",
          "evalue": "name 'node1' is not defined",
          "output_type": "error",
          "traceback": [
            "\u001b[0;31m---------------------------------------------------------------------------\u001b[0m",
            "\u001b[0;31mNameError\u001b[0m                                 Traceback (most recent call last)",
            "\u001b[0;32m/tmp/ipython-input-3522212743.py\u001b[0m in \u001b[0;36m<cell line: 0>\u001b[0;34m()\u001b[0m\n\u001b[0;32m----> 1\u001b[0;31m \u001b[0mnode1\u001b[0m\u001b[0;34m.\u001b[0m\u001b[0mdata\u001b[0m\u001b[0;34m,\u001b[0m \u001b[0mnode2\u001b[0m\u001b[0;34m.\u001b[0m\u001b[0mdata\u001b[0m\u001b[0;34m,\u001b[0m \u001b[0mnode3\u001b[0m\u001b[0;34m.\u001b[0m\u001b[0mdata\u001b[0m\u001b[0;34m\u001b[0m\u001b[0;34m\u001b[0m\u001b[0m\n\u001b[0m",
            "\u001b[0;31mNameError\u001b[0m: name 'node1' is not defined"
          ]
        }
      ],
      "source": [
        "node1.data, node2.data, node3.data"
      ]
    },
    {
      "cell_type": "markdown",
      "id": "vital-watts",
      "metadata": {
        "id": "vital-watts"
      },
      "source": [
        "While this is OK, there's an easier way to do it."
      ]
    },
    {
      "cell_type": "code",
      "execution_count": null,
      "id": "narrow-missile",
      "metadata": {
        "id": "narrow-missile"
      },
      "outputs": [],
      "source": [
        "class Node():\n",
        "    def __init__(self, a_number):\n",
        "        self.data = a_number\n",
        "        self.next = None"
      ]
    },
    {
      "cell_type": "code",
      "execution_count": null,
      "id": "falling-setup",
      "metadata": {
        "id": "falling-setup"
      },
      "outputs": [
        {
          "ename": "NameError",
          "evalue": "name 'LinkedList' is not defined",
          "output_type": "error",
          "traceback": [
            "\u001b[31m---------------------------------------------------------------------------\u001b[39m",
            "\u001b[31mNameError\u001b[39m                                 Traceback (most recent call last)",
            "\u001b[36mCell\u001b[39m\u001b[36m \u001b[39m\u001b[32mIn[4]\u001b[39m\u001b[32m, line 1\u001b[39m\n\u001b[32m----> \u001b[39m\u001b[32m1\u001b[39m \u001b[38;5;28;01mclass\u001b[39;00m\u001b[38;5;250m \u001b[39m\u001b[34;01mStack\u001b[39;00m(\u001b[43mLinkedList\u001b[49m):\n\u001b[32m      2\u001b[39m   \u001b[38;5;28;01mdef\u001b[39;00m\u001b[38;5;250m \u001b[39m\u001b[34mpush\u001b[39m(\u001b[38;5;28mself\u001b[39m,value):\n\u001b[32m      3\u001b[39m     previous_head = \u001b[38;5;28mself\u001b[39m.head\n",
            "\u001b[31mNameError\u001b[39m: name 'LinkedList' is not defined"
          ]
        }
      ],
      "source": [
        "class Stack(LinkedList):\n",
        "  def push(self,value):\n",
        "    previous_head = self.head\n",
        "    self.head = Node(value)\n",
        "    self.head.next = previous_head\n",
        "   \n",
        "  def pop(self):\n",
        "    head = self.head\n",
        "    self.head = self.head.next\n",
        "    return head.data"
      ]
    },
    {
      "cell_type": "code",
      "execution_count": 2,
      "id": "typical-anniversary",
      "metadata": {
        "colab": {
          "base_uri": "https://localhost:8080/"
        },
        "id": "typical-anniversary",
        "outputId": "3c73008a-5bed-4be9-86cf-50dac9b17974"
      },
      "outputs": [
        {
          "ename": "NameError",
          "evalue": "name 'node1' is not defined",
          "output_type": "error",
          "traceback": [
            "\u001b[31m---------------------------------------------------------------------------\u001b[39m",
            "\u001b[31mNameError\u001b[39m                                 Traceback (most recent call last)",
            "\u001b[36mCell\u001b[39m\u001b[36m \u001b[39m\u001b[32mIn[2]\u001b[39m\u001b[32m, line 1\u001b[39m\n\u001b[32m----> \u001b[39m\u001b[32m1\u001b[39m \u001b[43mnode1\u001b[49m.data, node2.data, node3.data\n",
            "\u001b[31mNameError\u001b[39m: name 'node1' is not defined"
          ]
        }
      ],
      "source": [
        "node1.data, node2.data, node3.data"
      ]
    },
    {
      "cell_type": "code",
      "execution_count": 3,
      "id": "qzS2ik4XYmIp",
      "metadata": {
        "colab": {
          "base_uri": "https://localhost:8080/"
        },
        "id": "qzS2ik4XYmIp",
        "outputId": "799d9995-06c8-473d-984e-e5d0bb7f46a7"
      },
      "outputs": [
        {
          "ename": "NameError",
          "evalue": "name 'node1' is not defined",
          "output_type": "error",
          "traceback": [
            "\u001b[31m---------------------------------------------------------------------------\u001b[39m",
            "\u001b[31mNameError\u001b[39m                                 Traceback (most recent call last)",
            "\u001b[36mCell\u001b[39m\u001b[36m \u001b[39m\u001b[32mIn[3]\u001b[39m\u001b[32m, line 1\u001b[39m\n\u001b[32m----> \u001b[39m\u001b[32m1\u001b[39m \u001b[43mnode1\u001b[49m.next,node2.next,node3.next\n",
            "\u001b[31mNameError\u001b[39m: name 'node1' is not defined"
          ]
        }
      ],
      "source": [
        "node1.next,node2.next,node3.next"
      ]
    },
    {
      "cell_type": "markdown",
      "id": "prime-lucas",
      "metadata": {
        "id": "prime-lucas"
      },
      "source": [
        "## Linked List\n",
        "\n",
        "A linked list is a _data structure_ used for storing a sequence of elements. It's data with some structure (the sequence).\n",
        "\n",
        "![](https://cdn.programiz.com/sites/tutorial2program/files/linked-list-concept_0.png)\n",
        "\n",
        "We'll implement linked lists which support the following operations:\n",
        "\n",
        "- Create a list with given elements\n",
        "- Display the elements in a list\n",
        "- Find the number of elements in a list\n",
        "- Retrieve the element at a given position\n",
        "- Add or remove element(s)\n",
        "- (can you think of any more?)"
      ]
    },
    {
      "cell_type": "markdown",
      "id": "double-adjustment",
      "metadata": {
        "id": "double-adjustment"
      },
      "source": [
        "### Define a class for Linked list."
      ]
    },
    {
      "cell_type": "code",
      "execution_count": null,
      "id": "aware-track",
      "metadata": {
        "id": "aware-track"
      },
      "outputs": [],
      "source": [
        "class LinkedList():\n",
        "    def __init__(self):\n",
        "        self.head = None\n"
      ]
    },
    {
      "cell_type": "code",
      "execution_count": null,
      "id": "entire-value",
      "metadata": {
        "id": "entire-value"
      },
      "outputs": [],
      "source": [
        "list1 = LinkedList()"
      ]
    },
    {
      "cell_type": "code",
      "execution_count": null,
      "id": "competent-batch",
      "metadata": {
        "id": "competent-batch"
      },
      "outputs": [],
      "source": [
        "list1.head = Node(2)"
      ]
    },
    {
      "cell_type": "code",
      "execution_count": null,
      "id": "integrated-damages",
      "metadata": {
        "id": "integrated-damages"
      },
      "outputs": [],
      "source": [
        "list1.head.next = Node(3)"
      ]
    },
    {
      "cell_type": "code",
      "execution_count": null,
      "id": "accepting-correlation",
      "metadata": {
        "id": "accepting-correlation"
      },
      "outputs": [],
      "source": [
        "list1.head.next.next = Node(4)"
      ]
    },
    {
      "cell_type": "code",
      "execution_count": null,
      "id": "given-quarter",
      "metadata": {
        "colab": {
          "base_uri": "https://localhost:8080/"
        },
        "id": "given-quarter",
        "outputId": "af15e61b-14af-473d-f62b-d140119904fd"
      },
      "outputs": [
        {
          "data": {
            "text/plain": [
              "(2, 3, 4)"
            ]
          },
          "execution_count": 30,
          "metadata": {},
          "output_type": "execute_result"
        }
      ],
      "source": [
        "list1.head.data, list1.head.next.data, list1.head.next.next.data"
      ]
    },
    {
      "cell_type": "code",
      "execution_count": null,
      "id": "adaptive-stuart",
      "metadata": {
        "colab": {
          "base_uri": "https://localhost:8080/"
        },
        "id": "adaptive-stuart",
        "outputId": "32ddf8f3-6bac-4bc7-be35-24f36f591963",
        "scrolled": true
      },
      "outputs": [
        {
          "data": {
            "text/plain": [
              "(<__main__.Node at 0x7d052c92ec30>,\n",
              " <__main__.Node at 0x7d052ca36360>,\n",
              " <__main__.Node at 0x7d052ca36480>,\n",
              " None)"
            ]
          },
          "execution_count": 31,
          "metadata": {},
          "output_type": "execute_result"
        }
      ],
      "source": [
        "list1.head, list1.head.next, list1.head.next.next, list1.head.next.next.next"
      ]
    },
    {
      "cell_type": "markdown",
      "id": "sunrise-focus",
      "metadata": {
        "id": "sunrise-focus"
      },
      "source": [
        "While it's OK to set value like this, we can add a couple of arguments."
      ]
    },
    {
      "cell_type": "code",
      "execution_count": null,
      "id": "defensive-monitoring",
      "metadata": {
        "id": "defensive-monitoring"
      },
      "outputs": [],
      "source": [
        "class LinkedList(LinkedList):\n",
        "    def append(self, value):\n",
        "        if self.head is None: # means that the linked list is empty\n",
        "            self.head = Node(value)\n",
        "        else:\n",
        "            current_node = self.head\n",
        "            while current_node.next is not None:\n",
        "                # while we are not at the last node\n",
        "                current_node = current_node.next\n",
        "            current_node.next = Node(value)"
      ]
    },
    {
      "cell_type": "code",
      "execution_count": null,
      "id": "streaming-bunny",
      "metadata": {
        "id": "streaming-bunny"
      },
      "outputs": [],
      "source": [
        "list2 = LinkedList()\n",
        "# LinkedList.append(list2,2)\n",
        "list2.append(2)\n",
        "list2.append(3)\n",
        "list2.append(5)"
      ]
    },
    {
      "cell_type": "code",
      "execution_count": null,
      "id": "novel-treasury",
      "metadata": {
        "colab": {
          "base_uri": "https://localhost:8080/"
        },
        "id": "novel-treasury",
        "outputId": "e54dd2d1-62ed-48cd-da40-539391d2f1e8"
      },
      "outputs": [
        {
          "data": {
            "text/plain": [
              "(2, 3, 5)"
            ]
          },
          "execution_count": 34,
          "metadata": {},
          "output_type": "execute_result"
        }
      ],
      "source": [
        "list2.head.data, list2.head.next.data, list2.head.next.next.data"
      ]
    },
    {
      "cell_type": "code",
      "execution_count": null,
      "id": "TZIFRaP-cNLd",
      "metadata": {
        "colab": {
          "base_uri": "https://localhost:8080/"
        },
        "id": "TZIFRaP-cNLd",
        "outputId": "7b064545-3039-4369-82aa-83ab8e977f5a"
      },
      "outputs": [
        {
          "data": {
            "text/plain": [
              "<__main__.LinkedList at 0x7d052ca36960>"
            ]
          },
          "execution_count": 35,
          "metadata": {},
          "output_type": "execute_result"
        }
      ],
      "source": [
        "list2"
      ]
    },
    {
      "cell_type": "markdown",
      "id": "constitutional-edinburgh",
      "metadata": {
        "id": "constitutional-edinburgh"
      },
      "source": [
        "Next, let's add a method to print the value in a list."
      ]
    },
    {
      "cell_type": "code",
      "execution_count": null,
      "id": "involved-helena",
      "metadata": {
        "id": "involved-helena"
      },
      "outputs": [],
      "source": [
        "class LinkedList(LinkedList):\n",
        "    def __iter__(self):\n",
        "        current = self.head\n",
        "        while current is not None:\n",
        "            yield current.data\n",
        "            current = current.next\n",
        "\n",
        "    # def __repr__(self):\n",
        "    #     return \", \".join(map(str,self))"
      ]
    },
    {
      "cell_type": "code",
      "execution_count": null,
      "id": "e5c4d828",
      "metadata": {
        "id": "e5c4d828"
      },
      "outputs": [],
      "source": [
        "list2 = LinkedList()\n",
        "# LinkedList.append(list2,2)\n",
        "list2.append(2)\n",
        "list2.append(3)\n",
        "list2.append(5)"
      ]
    },
    {
      "cell_type": "code",
      "execution_count": null,
      "id": "rolled-sierra",
      "metadata": {
        "colab": {
          "base_uri": "https://localhost:8080/"
        },
        "id": "rolled-sierra",
        "outputId": "87bfc625-2549-4d0a-ff74-b343ab12da5b"
      },
      "outputs": [
        {
          "data": {
            "text/plain": [
              "(2, 3, 5)"
            ]
          },
          "execution_count": 38,
          "metadata": {},
          "output_type": "execute_result"
        }
      ],
      "source": [
        "tuple(list2)"
      ]
    },
    {
      "cell_type": "markdown",
      "id": "finnish-marriage",
      "metadata": {
        "id": "finnish-marriage"
      },
      "source": [
        "Let's add a couple of more functions: `__len__` and `__getitem__` to get an element at a specific position."
      ]
    },
    {
      "cell_type": "code",
      "execution_count": null,
      "id": "enclosed-warrior",
      "metadata": {
        "id": "enclosed-warrior"
      },
      "outputs": [],
      "source": [
        "class LinkedList(LinkedList):\n",
        "    def __len__(self):\n",
        "        result = 0\n",
        "        for current in self:\n",
        "            result += 1\n",
        "        return result\n",
        "\n",
        "    def __getitem__(self, position):\n",
        "        i = 0\n",
        "        for current in self:\n",
        "            if i == position:\n",
        "                return current\n",
        "            i += 1\n",
        "        return None"
      ]
    },
    {
      "cell_type": "code",
      "execution_count": null,
      "id": "b5339adc",
      "metadata": {
        "id": "b5339adc"
      },
      "outputs": [],
      "source": [
        "list2 = LinkedList()\n",
        "list2.append(2)\n",
        "list2.append(3)\n",
        "list2.append(5)"
      ]
    },
    {
      "cell_type": "code",
      "execution_count": null,
      "id": "bizarre-syndication",
      "metadata": {
        "colab": {
          "base_uri": "https://localhost:8080/"
        },
        "id": "bizarre-syndication",
        "outputId": "01fe5798-c5b2-46a7-8f80-0e9c9ca0930c"
      },
      "outputs": [
        {
          "data": {
            "text/plain": [
              "3"
            ]
          },
          "execution_count": 41,
          "metadata": {},
          "output_type": "execute_result"
        }
      ],
      "source": [
        "len(list2)"
      ]
    },
    {
      "cell_type": "code",
      "execution_count": null,
      "id": "active-bracket",
      "metadata": {
        "colab": {
          "base_uri": "https://localhost:8080/"
        },
        "id": "active-bracket",
        "outputId": "03021bb5-2984-4888-9830-25ccd75e7c0f"
      },
      "outputs": [
        {
          "data": {
            "text/plain": [
              "2"
            ]
          },
          "execution_count": 42,
          "metadata": {},
          "output_type": "execute_result"
        }
      ],
      "source": [
        "list2[0]"
      ]
    },
    {
      "cell_type": "code",
      "execution_count": null,
      "id": "closing-album",
      "metadata": {
        "colab": {
          "base_uri": "https://localhost:8080/"
        },
        "id": "closing-album",
        "outputId": "5165212a-e771-48e6-b760-9844b0272c9d"
      },
      "outputs": [
        {
          "data": {
            "text/plain": [
              "3"
            ]
          },
          "execution_count": 43,
          "metadata": {},
          "output_type": "execute_result"
        }
      ],
      "source": [
        "list2[1]"
      ]
    },
    {
      "cell_type": "code",
      "execution_count": null,
      "id": "broken-banner",
      "metadata": {
        "colab": {
          "base_uri": "https://localhost:8080/"
        },
        "id": "broken-banner",
        "outputId": "1fbe64b0-b864-42ee-9401-a797134fd5e3"
      },
      "outputs": [
        {
          "data": {
            "text/plain": [
              "5"
            ]
          },
          "execution_count": 44,
          "metadata": {},
          "output_type": "execute_result"
        }
      ],
      "source": [
        "list2[2]"
      ]
    },
    {
      "cell_type": "markdown",
      "id": "surface-antenna",
      "metadata": {
        "id": "surface-antenna"
      },
      "source": [
        "Given a list of size `N`, the the number of statements executed for each of the steps:\n",
        "\n",
        "- `append`: N steps\n",
        "- `__len__`: N steps\n",
        "- `__getitem__`: N steps\n",
        "- `__repr__`: N steps\n"
      ]
    },
    {
      "cell_type": "markdown",
      "id": "TgIj5a7qmn8i",
      "metadata": {
        "id": "TgIj5a7qmn8i"
      },
      "source": [
        "# The final implementation of the `LinkedList` class"
      ]
    },
    {
      "cell_type": "code",
      "execution_count": null,
      "id": "AmZ3O20al7b9",
      "metadata": {
        "id": "AmZ3O20al7b9"
      },
      "outputs": [],
      "source": [
        "class Node():\n",
        "    def __init__(self, a_number):\n",
        "        self.data = a_number\n",
        "        self.next = None\n",
        "\n",
        "class LinkedList():\n",
        "    def __init__(self,values=[]):\n",
        "        self.head = None\n",
        "        for value in values:\n",
        "          self.append(value)\n",
        "\n",
        "    def append(self, value):\n",
        "        if self.head is None: # means that the linked list is empty\n",
        "            self.head = Node(value)\n",
        "        else:\n",
        "            current_node = self.head\n",
        "            while current_node.next is not None:\n",
        "                # while we are not at the last node\n",
        "                current_node = current_node.next\n",
        "            current_node.next = Node(value)\n",
        "\n",
        "    def __iter__(self):\n",
        "        current = self.head\n",
        "        while current is not None:\n",
        "            yield current.data\n",
        "            current = current.next\n",
        "\n",
        "    def __repr__(self):\n",
        "        return \", \".join(map(str,self))\n",
        "\n",
        "    def __len__(self):\n",
        "        result = 0\n",
        "        for current in self:\n",
        "            result += 1\n",
        "        return result\n",
        "\n",
        "    def __getitem__(self, position):\n",
        "        i = 0\n",
        "        for current in self:\n",
        "            if i == position:\n",
        "                return current\n",
        "            i += 1\n",
        "        return None"
      ]
    },
    {
      "cell_type": "code",
      "execution_count": null,
      "id": "ubxq8L9KmR_Y",
      "metadata": {
        "colab": {
          "base_uri": "https://localhost:8080/"
        },
        "id": "ubxq8L9KmR_Y",
        "outputId": "715f5e70-d277-4625-f279-69f11e6b3111"
      },
      "outputs": [
        {
          "name": "stdout",
          "output_type": "stream",
          "text": [
            "2 3 5\n"
          ]
        }
      ],
      "source": [
        "list2 = LinkedList([2,3,5])\n",
        "print(*list2)"
      ]
    },
    {
      "cell_type": "code",
      "execution_count": null,
      "id": "fKTlOKiB02Dz",
      "metadata": {
        "colab": {
          "base_uri": "https://localhost:8080/"
        },
        "id": "fKTlOKiB02Dz",
        "outputId": "08655246-1da0-4ca9-e3b2-ed2e39cb38fd"
      },
      "outputs": [
        {
          "data": {
            "text/plain": [
              "(5, 3, 2)"
            ]
          },
          "execution_count": 47,
          "metadata": {},
          "output_type": "execute_result"
        }
      ],
      "source": [
        "b=None\n",
        "a=list2.head\n",
        "while a is not None:\n",
        "  x = a.next\n",
        "  a.next = b\n",
        "  b = a\n",
        "  a = x\n",
        "\n",
        "list3 = LinkedList()\n",
        "list3.head = b\n",
        "tuple(list3)"
      ]
    }
  ],
  "metadata": {
    "colab": {
      "provenance": []
    },
    "kernelspec": {
      "display_name": "Python 3",
      "language": "python",
      "name": "python3"
    },
    "language_info": {
      "codemirror_mode": {
        "name": "ipython",
        "version": 3
      },
      "file_extension": ".py",
      "mimetype": "text/x-python",
      "name": "python",
      "nbconvert_exporter": "python",
      "pygments_lexer": "ipython3",
      "version": "3.11.9"
    }
  },
  "nbformat": 4,
  "nbformat_minor": 5
}
