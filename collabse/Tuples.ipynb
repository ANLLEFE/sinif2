{
  "cells": [
    {
      "cell_type": "markdown",
      "metadata": {
        "id": "I0Nh3J4RMnL9"
      },
      "source": [
        "# Tuple Objects\n",
        "A *tuple* is just an ordered collection of some Python objects.\n",
        "\n",
        "To create a tuple,\n",
        "write some Python objects seperating them with a: `,`"
      ]
    },
    {
      "cell_type": "code",
      "execution_count": null,
      "metadata": {
        "colab": {
          "base_uri": "https://localhost:8080/"
        },
        "id": "uwacm3W_L43B",
        "outputId": "1eb38425-0c25-4726-d488-b2aaae145d4a"
      },
      "outputs": [
        {
          "output_type": "execute_result",
          "data": {
            "text/plain": [
              "('hello', 'world', 1, None, 1)"
            ]
          },
          "metadata": {},
          "execution_count": 232
        }
      ],
      "source": [
        "'hello', 'world', 1, None, 1"
      ]
    },
    {
      "cell_type": "markdown",
      "source": [
        "**Warning:** When representing a tuple object, like in the previous example, Python always adds a pair of paranthesis around the tuple.\n",
        "\n",
        "Writing the tuples in this way is a good practice."
      ],
      "metadata": {
        "id": "LUc5Lhi19MZg"
      }
    },
    {
      "cell_type": "markdown",
      "metadata": {
        "id": "GkYgXU6xNBHE"
      },
      "source": [
        "Python also allows one more `,` at the end of the tuple.\n",
        "This extra `,` does not have an effect.\n",
        "The tuple created will be the same."
      ]
    },
    {
      "cell_type": "code",
      "execution_count": null,
      "metadata": {
        "colab": {
          "base_uri": "https://localhost:8080/"
        },
        "id": "2T7lJ9eaNTnU",
        "outputId": "f28ebc8f-638b-4e90-9891-999560164570"
      },
      "outputs": [
        {
          "output_type": "execute_result",
          "data": {
            "text/plain": [
              "('hello', 'world', 1, None, 1)"
            ]
          },
          "metadata": {},
          "execution_count": 233
        }
      ],
      "source": [
        "'hello', 'world', 1, None, 1,"
      ]
    },
    {
      "cell_type": "markdown",
      "metadata": {
        "id": "O2LbN-fINZzS"
      },
      "source": [
        "So if you want to create a tuple with single object then just write the object and put a `,` at the end."
      ]
    },
    {
      "cell_type": "code",
      "execution_count": null,
      "metadata": {
        "colab": {
          "base_uri": "https://localhost:8080/"
        },
        "id": "HQm4MQG0Nryn",
        "outputId": "1ca2b5d2-1e99-4bbb-e952-71837c52e35d"
      },
      "outputs": [
        {
          "output_type": "execute_result",
          "data": {
            "text/plain": [
              "('hello',)"
            ]
          },
          "metadata": {},
          "execution_count": 234
        }
      ],
      "source": [
        "'hello',"
      ]
    },
    {
      "cell_type": "markdown",
      "metadata": {
        "id": "BxEpFXkcvejt"
      },
      "source": [
        "**Warning:** Writing `('hello')` without `,` does not create a tuple!"
      ]
    },
    {
      "cell_type": "markdown",
      "metadata": {
        "id": "bCbwckpeO62S"
      },
      "source": [
        "If you want to create an empy tuple use:"
      ]
    },
    {
      "cell_type": "code",
      "execution_count": null,
      "metadata": {
        "colab": {
          "base_uri": "https://localhost:8080/"
        },
        "id": "Stb5tPzXPBd3",
        "outputId": "f7134555-2cef-4372-8c76-5af30b57dbcc"
      },
      "outputs": [
        {
          "output_type": "execute_result",
          "data": {
            "text/plain": [
              "()"
            ]
          },
          "metadata": {},
          "execution_count": 235
        }
      ],
      "source": [
        "()"
      ]
    },
    {
      "cell_type": "markdown",
      "metadata": {
        "id": "BF8hvZGtPY_5"
      },
      "source": [
        "Since a tuple is one Python object then you can assign it to a variable."
      ]
    },
    {
      "cell_type": "code",
      "execution_count": null,
      "metadata": {
        "id": "vVFa5vG0P6mT"
      },
      "outputs": [],
      "source": [
        "h = 'hello',\n",
        "w = 'world', 1"
      ]
    },
    {
      "cell_type": "markdown",
      "metadata": {
        "id": "8wVWzIbBQZ16"
      },
      "source": [
        "## Operations on tuples\n",
        "Like strings:"
      ]
    },
    {
      "cell_type": "markdown",
      "metadata": {
        "id": "OiH1cxUAcmAt"
      },
      "source": [
        "You can get the length of a tuple by the builtin `len()` function."
      ]
    },
    {
      "cell_type": "code",
      "execution_count": null,
      "metadata": {
        "colab": {
          "base_uri": "https://localhost:8080/"
        },
        "id": "T0kgXIALct9v",
        "outputId": "9d2ce87c-3c17-4670-a668-b776e81e4886"
      },
      "outputs": [
        {
          "output_type": "execute_result",
          "data": {
            "text/plain": [
              "2"
            ]
          },
          "metadata": {},
          "execution_count": 237
        }
      ],
      "source": [
        "len(w)"
      ]
    },
    {
      "cell_type": "markdown",
      "metadata": {
        "id": "OLfJk4nelBn7"
      },
      "source": [
        "To test if an item is in the tuple use `in` keyword."
      ]
    },
    {
      "cell_type": "code",
      "execution_count": null,
      "metadata": {
        "colab": {
          "base_uri": "https://localhost:8080/"
        },
        "id": "LJf2eSu_lKkV",
        "outputId": "a65c370b-e57e-4c64-c00e-6c37b4e9128d"
      },
      "outputs": [
        {
          "output_type": "execute_result",
          "data": {
            "text/plain": [
              "(True, False)"
            ]
          },
          "metadata": {},
          "execution_count": 238
        }
      ],
      "source": [
        "'world' in w, 'hello' in w"
      ]
    },
    {
      "cell_type": "markdown",
      "metadata": {
        "id": "Z9bHbqZ-4odn"
      },
      "source": [
        "To count the number of occurances of an item in a tuple use `.count()` method."
      ]
    },
    {
      "cell_type": "code",
      "execution_count": null,
      "metadata": {
        "colab": {
          "base_uri": "https://localhost:8080/"
        },
        "id": "81Hhg4ld4x3Q",
        "outputId": "839d8a66-ec65-4738-ff7d-47987fccce52"
      },
      "outputs": [
        {
          "output_type": "execute_result",
          "data": {
            "text/plain": [
              "(1, 0)"
            ]
          },
          "metadata": {},
          "execution_count": 239
        }
      ],
      "source": [
        "w.count('world'), w.count('hello')"
      ]
    },
    {
      "cell_type": "markdown",
      "metadata": {
        "id": "qbxnif2FZuv0"
      },
      "source": [
        "Python tuples can be concatenated by `+` operation."
      ]
    },
    {
      "cell_type": "code",
      "execution_count": null,
      "metadata": {
        "colab": {
          "base_uri": "https://localhost:8080/"
        },
        "id": "GKI9z5CFQedR",
        "outputId": "2ff4bc73-ec00-4a3d-e0d2-dd9a73a7b756"
      },
      "outputs": [
        {
          "output_type": "execute_result",
          "data": {
            "text/plain": [
              "('hello', 'world', 1)"
            ]
          },
          "metadata": {},
          "execution_count": 240
        }
      ],
      "source": [
        "h + w"
      ]
    },
    {
      "cell_type": "markdown",
      "metadata": {
        "id": "I3pLB9I8QtFs"
      },
      "source": [
        "Also you can use `*` to repeat the same tuple multiple times."
      ]
    },
    {
      "cell_type": "code",
      "execution_count": null,
      "metadata": {
        "colab": {
          "base_uri": "https://localhost:8080/"
        },
        "id": "6yZIptZaQ3IH",
        "outputId": "f43fcc56-73f2-4cfc-db27-1e9c4a2e099f"
      },
      "outputs": [
        {
          "output_type": "execute_result",
          "data": {
            "text/plain": [
              "('hello', 'world', 1, 'hello', 'world', 1, 'hello', 'world', 1)"
            ]
          },
          "metadata": {},
          "execution_count": 241
        }
      ],
      "source": [
        "(h + w) * 3"
      ]
    },
    {
      "cell_type": "markdown",
      "metadata": {
        "id": "G0gvTf2hRweO"
      },
      "source": [
        "You can compare two tuples with `<`, `<=`, `>`, `>=`, `==` and `!=` operations."
      ]
    },
    {
      "cell_type": "code",
      "execution_count": null,
      "metadata": {
        "colab": {
          "base_uri": "https://localhost:8080/"
        },
        "id": "gLo2pDnZSJBv",
        "outputId": "36cab0a3-8811-4df6-b63d-7011662bfd14"
      },
      "outputs": [
        {
          "output_type": "execute_result",
          "data": {
            "text/plain": [
              "True"
            ]
          },
          "metadata": {},
          "execution_count": 242
        }
      ],
      "source": [
        "h == ('hello',)"
      ]
    },
    {
      "cell_type": "code",
      "execution_count": null,
      "metadata": {
        "colab": {
          "base_uri": "https://localhost:8080/"
        },
        "id": "6EW_clGXR2XS",
        "outputId": "82655f79-1ffa-4e25-bd6a-5550af5270da"
      },
      "outputs": [
        {
          "output_type": "execute_result",
          "data": {
            "text/plain": [
              "True"
            ]
          },
          "metadata": {},
          "execution_count": 243
        }
      ],
      "source": [
        "h + w > h"
      ]
    },
    {
      "cell_type": "markdown",
      "metadata": {
        "id": "VR-l9D_sSYPZ"
      },
      "source": [
        "Here the comparision is done in lexicographic order."
      ]
    },
    {
      "cell_type": "markdown",
      "metadata": {
        "id": "e7eCImrow_Ir"
      },
      "source": [
        "# Precedence of the `,` Operator\n",
        "**Warning:** Precedence of the `,` operator is less than the other operators except the `=` operator.\n",
        "Therefore, when doing tuple operations, always use paranthesis around the `,` separated tuple items.\n",
        "\n",
        "**For example:**"
      ]
    },
    {
      "cell_type": "code",
      "execution_count": null,
      "metadata": {
        "colab": {
          "base_uri": "https://localhost:8080/"
        },
        "id": "1SonejLqbbF1",
        "outputId": "3713a1f0-3b77-43df-895e-69932ea37c18"
      },
      "outputs": [
        {
          "output_type": "execute_result",
          "data": {
            "text/plain": [
              "(1, 5, 4)"
            ]
          },
          "metadata": {},
          "execution_count": 244
        }
      ],
      "source": [
        "1, 2 + 3, 4"
      ]
    },
    {
      "cell_type": "markdown",
      "metadata": {
        "id": "FcXMq5xQ2n4w"
      },
      "source": [
        "is equivalent to:"
      ]
    },
    {
      "cell_type": "code",
      "execution_count": null,
      "metadata": {
        "colab": {
          "base_uri": "https://localhost:8080/"
        },
        "id": "XD0eL6fM2rdT",
        "outputId": "6b2b52a9-93ff-4283-e970-c8503b31b99f"
      },
      "outputs": [
        {
          "output_type": "execute_result",
          "data": {
            "text/plain": [
              "(1, 5, 4)"
            ]
          },
          "metadata": {},
          "execution_count": 245
        }
      ],
      "source": [
        "1, (2 + 3), 4"
      ]
    },
    {
      "cell_type": "markdown",
      "metadata": {
        "id": "E-sN6Qxo2v1D"
      },
      "source": [
        "but not equivalent to:"
      ]
    },
    {
      "cell_type": "code",
      "execution_count": null,
      "metadata": {
        "colab": {
          "base_uri": "https://localhost:8080/"
        },
        "id": "lFfemzrDbunH",
        "outputId": "c3fde8dc-fed7-4d55-bf5c-f9d07ddbd798"
      },
      "outputs": [
        {
          "output_type": "execute_result",
          "data": {
            "text/plain": [
              "(1, 2, 3, 4)"
            ]
          },
          "metadata": {},
          "execution_count": 246
        }
      ],
      "source": [
        "(1, 2) + (3, 4)"
      ]
    },
    {
      "cell_type": "markdown",
      "metadata": {
        "id": "uO3Mfi1JcVR2"
      },
      "source": [
        "## Nested Tuples\n",
        "Paranthesis is used to create a tuple with another tuple:"
      ]
    },
    {
      "cell_type": "code",
      "execution_count": null,
      "metadata": {
        "colab": {
          "base_uri": "https://localhost:8080/"
        },
        "id": "kkwJqhiEcdM9",
        "outputId": "7cf18a55-21fe-4450-ed00-e6cfb46ba4b3"
      },
      "outputs": [
        {
          "output_type": "execute_result",
          "data": {
            "text/plain": [
              "3"
            ]
          },
          "metadata": {},
          "execution_count": 247
        }
      ],
      "source": [
        "a = 'one', 2, (3, (4, 5))\n",
        "len(a)"
      ]
    },
    {
      "cell_type": "markdown",
      "metadata": {
        "id": "Co5M8EArdDPL"
      },
      "source": [
        "Here the items of the tuple are: `'one'`, `2` and `(3, (4, 5))`."
      ]
    },
    {
      "cell_type": "markdown",
      "metadata": {
        "id": "WupzBV-wVK4v"
      },
      "source": [
        "## Accessing Tuple Items\n",
        "To access the first item in a tuple use `[0]`,\n",
        "to access the second `[1]`,\n",
        "and so on."
      ]
    },
    {
      "cell_type": "code",
      "execution_count": null,
      "metadata": {
        "colab": {
          "base_uri": "https://localhost:8080/",
          "height": 35
        },
        "id": "LqWh3wu8VeFb",
        "outputId": "83e19b67-ffac-4f63-c358-5827abe53aea"
      },
      "outputs": [
        {
          "output_type": "execute_result",
          "data": {
            "text/plain": [
              "'one'"
            ],
            "application/vnd.google.colaboratory.intrinsic+json": {
              "type": "string"
            }
          },
          "metadata": {},
          "execution_count": 248
        }
      ],
      "source": [
        "a[0]"
      ]
    },
    {
      "cell_type": "markdown",
      "metadata": {
        "id": "i6es-IwYWR1F"
      },
      "source": [
        "To access the last item of a tuple use `[-1]`.\n",
        "You can use negative numbers to index the items from end."
      ]
    },
    {
      "cell_type": "code",
      "execution_count": null,
      "metadata": {
        "colab": {
          "base_uri": "https://localhost:8080/"
        },
        "id": "HfCAc8fWWrF4",
        "outputId": "3dcc440a-28a1-4632-fdd6-bb72228b0751"
      },
      "outputs": [
        {
          "output_type": "execute_result",
          "data": {
            "text/plain": [
              "(3, (4, 5))"
            ]
          },
          "metadata": {},
          "execution_count": 249
        }
      ],
      "source": [
        "a[-1]"
      ]
    },
    {
      "cell_type": "markdown",
      "metadata": {
        "id": "0OeIYOVUW31O"
      },
      "source": [
        "To index a tuple from the beginning count like `0,1,2,...`\n",
        "To index a tuple from the end count like `-1,-2,-3,...`"
      ]
    },
    {
      "cell_type": "markdown",
      "metadata": {
        "id": "I9gLb-Yf4_Q6"
      },
      "source": [
        "To get the (positive) index of an item in a tuple use `.index()` method."
      ]
    },
    {
      "cell_type": "code",
      "execution_count": null,
      "metadata": {
        "colab": {
          "base_uri": "https://localhost:8080/"
        },
        "id": "W29byI1j5Gg4",
        "outputId": "437aec6f-756e-479c-9a22-17fd72e72d73"
      },
      "outputs": [
        {
          "output_type": "execute_result",
          "data": {
            "text/plain": [
              "2"
            ]
          },
          "metadata": {},
          "execution_count": 250
        }
      ],
      "source": [
        "a.index((3,(4,5)))"
      ]
    },
    {
      "cell_type": "markdown",
      "metadata": {
        "id": "_w9NAVDEeJW1"
      },
      "source": [
        "To access an item in a nested tuple use multiple `[...]`'s."
      ]
    },
    {
      "cell_type": "code",
      "execution_count": null,
      "metadata": {
        "colab": {
          "base_uri": "https://localhost:8080/"
        },
        "id": "VLNLWHZWepfl",
        "outputId": "a75b7761-3fb0-473b-cc03-20f4f1f563f5"
      },
      "outputs": [
        {
          "output_type": "execute_result",
          "data": {
            "text/plain": [
              "(4, 5)"
            ]
          },
          "metadata": {},
          "execution_count": 251
        }
      ],
      "source": [
        "a[-1][1]"
      ]
    },
    {
      "cell_type": "code",
      "execution_count": null,
      "metadata": {
        "colab": {
          "base_uri": "https://localhost:8080/"
        },
        "id": "XqrOLqO_e3fZ",
        "outputId": "769b8351-d198-4d27-e425-00bc3598fa23"
      },
      "outputs": [
        {
          "output_type": "execute_result",
          "data": {
            "text/plain": [
              "4"
            ]
          },
          "metadata": {},
          "execution_count": 252
        }
      ],
      "source": [
        "a[-1][1][0]"
      ]
    },
    {
      "cell_type": "markdown",
      "metadata": {
        "id": "GPCzF7yPfLOe"
      },
      "source": [
        "Since we use the same notation to access the letters of a string,\n",
        "be careful when working on tuples of strings."
      ]
    },
    {
      "cell_type": "code",
      "execution_count": null,
      "metadata": {
        "colab": {
          "base_uri": "https://localhost:8080/",
          "height": 35
        },
        "id": "-YWWZF9dffvX",
        "outputId": "9fcbeb3a-4372-4b13-81cd-aa82ae89d5aa"
      },
      "outputs": [
        {
          "output_type": "execute_result",
          "data": {
            "text/plain": [
              "'o'"
            ],
            "application/vnd.google.colaboratory.intrinsic+json": {
              "type": "string"
            }
          },
          "metadata": {},
          "execution_count": 253
        }
      ],
      "source": [
        "a[0][0]"
      ]
    },
    {
      "cell_type": "markdown",
      "metadata": {
        "id": "hRS3lSYlfoGY"
      },
      "source": [
        "Here `a[0][0]` is the first character of the first item in the tuple."
      ]
    },
    {
      "cell_type": "markdown",
      "metadata": {
        "id": "EN-ACGJHhXND"
      },
      "source": [
        "### Range of Indexes\n",
        "You can get a part of a tuple by `[start:end]` notation."
      ]
    },
    {
      "cell_type": "code",
      "execution_count": null,
      "metadata": {
        "colab": {
          "base_uri": "https://localhost:8080/"
        },
        "id": "rYI3qYhPiETv",
        "outputId": "b0b9edd2-752e-4d79-f283-3956928d2456"
      },
      "outputs": [
        {
          "output_type": "execute_result",
          "data": {
            "text/plain": [
              "('one', 2)"
            ]
          },
          "metadata": {},
          "execution_count": 254
        }
      ],
      "source": [
        "a[0:2]"
      ]
    },
    {
      "cell_type": "markdown",
      "metadata": {
        "id": "6noW62xviJT0"
      },
      "source": [
        "Here `a[0:2]` gets a tuple with `a[0]` and `a[1]` but not `a[2]`.\n",
        "You can also use negative indexes here."
      ]
    },
    {
      "cell_type": "code",
      "execution_count": null,
      "metadata": {
        "colab": {
          "base_uri": "https://localhost:8080/"
        },
        "id": "wpTe9ZLliiAR",
        "outputId": "55f5724c-df13-42dd-c3de-ce980dbb6e91"
      },
      "outputs": [
        {
          "output_type": "execute_result",
          "data": {
            "text/plain": [
              "('one', 2)"
            ]
          },
          "metadata": {},
          "execution_count": 255
        }
      ],
      "source": [
        "a[0:-1]"
      ]
    },
    {
      "cell_type": "markdown",
      "metadata": {
        "id": "E_8M0puoi7BB"
      },
      "source": [
        "If you ommit the start index Python assumes it `0`.\n",
        "So to get the first `2` items:"
      ]
    },
    {
      "cell_type": "code",
      "execution_count": null,
      "metadata": {
        "colab": {
          "base_uri": "https://localhost:8080/"
        },
        "id": "XHQUMWyNjBCY",
        "outputId": "cb484773-ae45-4f14-c46c-bbc0f310342f"
      },
      "outputs": [
        {
          "output_type": "execute_result",
          "data": {
            "text/plain": [
              "('one', 2)"
            ]
          },
          "metadata": {},
          "execution_count": 256
        }
      ],
      "source": [
        "a[:2]"
      ]
    },
    {
      "cell_type": "markdown",
      "metadata": {
        "id": "1dtKThtDjEjw"
      },
      "source": [
        "If you ommit the end index Python assumes it the length of the tuple.\n",
        "So to get the last `2` items:"
      ]
    },
    {
      "cell_type": "code",
      "execution_count": null,
      "metadata": {
        "colab": {
          "base_uri": "https://localhost:8080/"
        },
        "id": "VQHiDqV6jMXj",
        "outputId": "68ee17eb-efba-485f-cd3d-8ac4b1ff8193"
      },
      "outputs": [
        {
          "output_type": "execute_result",
          "data": {
            "text/plain": [
              "(2, (3, (4, 5)))"
            ]
          },
          "metadata": {},
          "execution_count": 257
        }
      ],
      "source": [
        "a[-2:]"
      ]
    },
    {
      "cell_type": "markdown",
      "metadata": {
        "id": "xkRc3JGzjmJK"
      },
      "source": [
        "If your indexes are out of valid ranges then Python assumes them like empty:"
      ]
    },
    {
      "cell_type": "code",
      "execution_count": null,
      "metadata": {
        "colab": {
          "base_uri": "https://localhost:8080/"
        },
        "id": "FkZ4WCAOj0Wm",
        "outputId": "fe3f547c-9f64-41e2-e0a0-a8301beab194"
      },
      "outputs": [
        {
          "output_type": "execute_result",
          "data": {
            "text/plain": [
              "('one', 2, (3, (4, 5)))"
            ]
          },
          "metadata": {},
          "execution_count": 258
        }
      ],
      "source": [
        "a[-10:10]"
      ]
    },
    {
      "cell_type": "markdown",
      "metadata": {
        "id": "v60wPhzWkHFB"
      },
      "source": [
        "You can skip some items with `[start:end:skip]` notation.\n",
        "For example to get only the items in odd positions:"
      ]
    },
    {
      "cell_type": "code",
      "execution_count": null,
      "metadata": {
        "colab": {
          "base_uri": "https://localhost:8080/"
        },
        "id": "d-1slldWkTck",
        "outputId": "f231db2e-2326-458f-beed-71f51c1d95d1"
      },
      "outputs": [
        {
          "output_type": "execute_result",
          "data": {
            "text/plain": [
              "('one', (3, (4, 5)))"
            ]
          },
          "metadata": {},
          "execution_count": 259
        }
      ],
      "source": [
        "a[::2]"
      ]
    },
    {
      "cell_type": "markdown",
      "metadata": {
        "id": "h3fCNW3im94S"
      },
      "source": [
        "## Unpacking Tuple Items\n",
        "If you need you can assign different variables to each item of a tuple.\n",
        "This is called unpacking."
      ]
    },
    {
      "cell_type": "code",
      "execution_count": null,
      "metadata": {
        "colab": {
          "base_uri": "https://localhost:8080/"
        },
        "id": "ud5bfvDgn0Ng",
        "outputId": "3fca4ad7-fc5f-4152-bbbe-b0e239c01371"
      },
      "outputs": [
        {
          "output_type": "execute_result",
          "data": {
            "text/plain": [
              "('one', 2, (3, (4, 5)))"
            ]
          },
          "metadata": {},
          "execution_count": 260
        }
      ],
      "source": [
        "a"
      ]
    },
    {
      "cell_type": "code",
      "execution_count": null,
      "metadata": {
        "id": "IzyJv1oVnDKi"
      },
      "outputs": [],
      "source": [
        "first, second, third = a"
      ]
    },
    {
      "cell_type": "code",
      "execution_count": null,
      "metadata": {
        "colab": {
          "base_uri": "https://localhost:8080/",
          "height": 35
        },
        "id": "-5IuXxTSn5Vj",
        "outputId": "edb1016d-f835-4887-d1c3-bfab0fe938a0"
      },
      "outputs": [
        {
          "output_type": "execute_result",
          "data": {
            "text/plain": [
              "'one'"
            ],
            "application/vnd.google.colaboratory.intrinsic+json": {
              "type": "string"
            }
          },
          "metadata": {},
          "execution_count": 262
        }
      ],
      "source": [
        "first"
      ]
    },
    {
      "cell_type": "code",
      "execution_count": null,
      "metadata": {
        "colab": {
          "base_uri": "https://localhost:8080/"
        },
        "id": "Vjf0Cb2inYFj",
        "outputId": "8099fda2-226d-4dcb-f61c-4a0e7d6e81a7"
      },
      "outputs": [
        {
          "output_type": "execute_result",
          "data": {
            "text/plain": [
              "2"
            ]
          },
          "metadata": {},
          "execution_count": 263
        }
      ],
      "source": [
        "second"
      ]
    },
    {
      "cell_type": "code",
      "execution_count": null,
      "metadata": {
        "colab": {
          "base_uri": "https://localhost:8080/"
        },
        "id": "Yjz8QaiAn3kp",
        "outputId": "f21d20a8-4b3e-4f34-875d-0d9f75c00c71"
      },
      "outputs": [
        {
          "output_type": "execute_result",
          "data": {
            "text/plain": [
              "(3, (4, 5))"
            ]
          },
          "metadata": {},
          "execution_count": 264
        }
      ],
      "source": [
        "third"
      ]
    },
    {
      "cell_type": "markdown",
      "metadata": {
        "id": "hFf-pEREndTI"
      },
      "source": [
        "Also you can do this nested if the tuple is nested."
      ]
    },
    {
      "cell_type": "code",
      "execution_count": null,
      "metadata": {
        "id": "kfFUofixngvC"
      },
      "outputs": [],
      "source": [
        "first, second, (first_of_third, (first_of_second_of_third, second_of_second_of_third)) = a"
      ]
    },
    {
      "cell_type": "code",
      "execution_count": null,
      "metadata": {
        "colab": {
          "base_uri": "https://localhost:8080/"
        },
        "id": "-aQCoDmSn-gl",
        "outputId": "638f8951-4cdd-47f7-ced2-0a9874292b26"
      },
      "outputs": [
        {
          "output_type": "execute_result",
          "data": {
            "text/plain": [
              "5"
            ]
          },
          "metadata": {},
          "execution_count": 266
        }
      ],
      "source": [
        "second_of_second_of_third"
      ]
    },
    {
      "cell_type": "markdown",
      "metadata": {
        "id": "j4XkN_w5pv9J"
      },
      "source": [
        "### Repacking Tuple Items\n",
        "You can use `*` to unpack a tuple and\n",
        "use `,` to pack to a tuple.\n",
        "Here `*` prevents Python from creating a nested tuple instead of a flat one."
      ]
    },
    {
      "cell_type": "code",
      "execution_count": null,
      "metadata": {
        "colab": {
          "base_uri": "https://localhost:8080/"
        },
        "id": "ovRKqnYFpz8V",
        "outputId": "68e35e71-c2ac-47e8-878b-ecc41b028228"
      },
      "outputs": [
        {
          "output_type": "execute_result",
          "data": {
            "text/plain": [
              "('one', 2, (3, (4, 5)), None)"
            ]
          },
          "metadata": {},
          "execution_count": 267
        }
      ],
      "source": [
        "*a, None"
      ]
    },
    {
      "cell_type": "markdown",
      "metadata": {
        "id": "mc3WwEetqdt7"
      },
      "source": [
        "Compare this with:"
      ]
    },
    {
      "cell_type": "code",
      "execution_count": null,
      "metadata": {
        "colab": {
          "base_uri": "https://localhost:8080/"
        },
        "id": "sgidtR6gqbEF",
        "outputId": "253ab947-12a8-4f8c-f927-bb915c09d94f"
      },
      "outputs": [
        {
          "output_type": "execute_result",
          "data": {
            "text/plain": [
              "(('one', 2, (3, (4, 5))), None)"
            ]
          },
          "metadata": {},
          "execution_count": 268
        }
      ],
      "source": [
        "a, None"
      ]
    },
    {
      "cell_type": "markdown",
      "metadata": {
        "id": "FI36Bpj4hFEl"
      },
      "source": [
        "## Error Messages\n",
        "The following code defines a Jupyter magic that catches the exceptions\n",
        "and prints the error message."
      ]
    },
    {
      "cell_type": "code",
      "source": [
        "from IPython.core.magic import register_cell_magic\n",
        "from traceback import TracebackException\n",
        "from sys import stderr\n",
        "\n",
        "@register_cell_magic\n",
        "def handle(line, cell):\n",
        "    try:\n",
        "      exec(cell)\n",
        "    except Exception as e:\n",
        "      print(\n",
        "          *TracebackException.from_exception(e).format_exception_only(),\n",
        "          file=stderr,\n",
        "          )"
      ],
      "metadata": {
        "id": "Zcxaa0Eo_Q1r"
      },
      "execution_count": null,
      "outputs": []
    },
    {
      "cell_type": "markdown",
      "metadata": {
        "id": "ZutpQcyo6JEV"
      },
      "source": [
        "If you try to access an item which is not in the tuple, Python yields an `IndexError`."
      ]
    },
    {
      "cell_type": "code",
      "execution_count": null,
      "metadata": {
        "id": "moQDNqXthCMU",
        "colab": {
          "base_uri": "https://localhost:8080/"
        },
        "outputId": "3ba8d96b-c5cb-4ce5-e0ed-a51fbe452be9"
      },
      "outputs": [
        {
          "output_type": "stream",
          "name": "stderr",
          "text": [
            "IndexError: tuple index out of range\n",
            "\n"
          ]
        }
      ],
      "source": [
        "%%handle\n",
        "a[3]"
      ]
    },
    {
      "cell_type": "markdown",
      "metadata": {
        "id": "53x3-by16Kh7"
      },
      "source": [
        "If you try to get index of an item which is not in the tuple, Python yields a `ValueError`."
      ]
    },
    {
      "cell_type": "code",
      "execution_count": null,
      "metadata": {
        "id": "bukmodad6Mej",
        "outputId": "86cccf89-4ac2-47a8-b526-69ae6326629d",
        "colab": {
          "base_uri": "https://localhost:8080/"
        }
      },
      "outputs": [
        {
          "output_type": "stream",
          "name": "stderr",
          "text": [
            "ValueError: tuple.index(x): x not in tuple\n",
            "\n"
          ]
        }
      ],
      "source": [
        "%%handle\n",
        "a.index(1)"
      ]
    }
  ],
  "metadata": {
    "colab": {
      "provenance": []
    },
    "kernelspec": {
      "display_name": "Python 3",
      "name": "python3"
    },
    "language_info": {
      "name": "python"
    }
  },
  "nbformat": 4,
  "nbformat_minor": 0
}