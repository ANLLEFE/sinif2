{
  "nbformat": 4,
  "nbformat_minor": 0,
  "metadata": {
    "colab": {
      "provenance": []
    },
    "kernelspec": {
      "name": "python3",
      "display_name": "Python 3"
    },
    "language_info": {
      "name": "python"
    }
  },
  "cells": [
    {
      "cell_type": "markdown",
      "source": [
        "# `Stack` class"
      ],
      "metadata": {
        "id": "TgIj5a7qmn8i"
      }
    },
    {
      "cell_type": "code",
      "source": [
        "class Node():\n",
        "    def __init__(self, a_number):\n",
        "        self.data = a_number\n",
        "        self.next = None\n",
        "\n",
        "class LinkedList():\n",
        "    def __init__(self,values=[]):\n",
        "        self.head = None\n",
        "        for value in values:\n",
        "          self.push(value)\n",
        "\n",
        "    def push(self, value):\n",
        "      node = Node(value)\n",
        "      node.next = self.head\n",
        "      self.head = node\n",
        "\n",
        "    def __iter__(self):\n",
        "      current = self.head\n",
        "      while current is not None:\n",
        "        yield current.data\n",
        "        current = current.next\n",
        "\n",
        "    def __repr__(self):\n",
        "      return \", \".join(map(str,self))\n",
        "\n",
        "    def __len__(self):\n",
        "        result = 0\n",
        "        for current in self:\n",
        "            result += 1\n",
        "        return result\n",
        "\n",
        "    def __getitem__(self, position):\n",
        "        i = 0\n",
        "        for current in self:\n",
        "            if i == position:\n",
        "                return current\n",
        "            i += 1\n",
        "        return None"
      ],
      "metadata": {
        "id": "AmZ3O20al7b9"
      },
      "execution_count": null,
      "outputs": []
    },
    {
      "cell_type": "code",
      "source": [
        "list2 = LinkedList([2,3,5])\n",
        "print(*list2)"
      ],
      "metadata": {
        "colab": {
          "base_uri": "https://localhost:8080/"
        },
        "id": "ubxq8L9KmR_Y",
        "outputId": "44c2f499-69b6-4afd-994c-b112b790f3ba"
      },
      "execution_count": null,
      "outputs": [
        {
          "output_type": "stream",
          "name": "stdout",
          "text": [
            "5 3 2\n"
          ]
        }
      ]
    },
    {
      "cell_type": "code",
      "source": [
        "class Stack(LinkedList):\n",
        "  def pop(self):\n",
        "    head = self.head\n",
        "    self.head = self.head.next\n",
        "    return head.data"
      ],
      "metadata": {
        "id": "fKTlOKiB02Dz"
      },
      "execution_count": null,
      "outputs": []
    },
    {
      "cell_type": "code",
      "source": [
        "stack1 = Stack()\n",
        "stack1"
      ],
      "metadata": {
        "colab": {
          "base_uri": "https://localhost:8080/"
        },
        "id": "O8h3F2P4zo91",
        "outputId": "17301fd5-2187-4f04-8360-f4775b25928e"
      },
      "execution_count": null,
      "outputs": [
        {
          "output_type": "execute_result",
          "data": {
            "text/plain": []
          },
          "metadata": {},
          "execution_count": 4
        }
      ]
    },
    {
      "cell_type": "code",
      "source": [
        "stack1.push(8)\n",
        "stack1"
      ],
      "metadata": {
        "colab": {
          "base_uri": "https://localhost:8080/"
        },
        "id": "VTPGKqbrzvQO",
        "outputId": "c22a9677-6beb-4a3d-b2ad-fc8842673735"
      },
      "execution_count": null,
      "outputs": [
        {
          "output_type": "execute_result",
          "data": {
            "text/plain": [
              "8"
            ]
          },
          "metadata": {},
          "execution_count": 5
        }
      ]
    },
    {
      "cell_type": "code",
      "source": [
        "stack1.push(9)\n",
        "stack1"
      ],
      "metadata": {
        "colab": {
          "base_uri": "https://localhost:8080/"
        },
        "id": "OtQMBjo1zz3H",
        "outputId": "152d6511-4033-40c6-f5e5-85334dd15903"
      },
      "execution_count": null,
      "outputs": [
        {
          "output_type": "execute_result",
          "data": {
            "text/plain": [
              "9, 8"
            ]
          },
          "metadata": {},
          "execution_count": 6
        }
      ]
    },
    {
      "cell_type": "code",
      "source": [
        "stack1.push(8)\n",
        "stack1"
      ],
      "metadata": {
        "colab": {
          "base_uri": "https://localhost:8080/"
        },
        "id": "6MX7BDkyz_2R",
        "outputId": "cb40308a-5b28-4971-ac39-3c8eb93c209a"
      },
      "execution_count": null,
      "outputs": [
        {
          "output_type": "execute_result",
          "data": {
            "text/plain": [
              "8, 9, 8"
            ]
          },
          "metadata": {},
          "execution_count": 7
        }
      ]
    },
    {
      "cell_type": "code",
      "source": [
        "stack1.pop()"
      ],
      "metadata": {
        "colab": {
          "base_uri": "https://localhost:8080/"
        },
        "id": "Xoq2VOJY0D_n",
        "outputId": "07d67b52-8f26-44ce-9e05-de1bf0ec30b4"
      },
      "execution_count": null,
      "outputs": [
        {
          "output_type": "execute_result",
          "data": {
            "text/plain": [
              "8"
            ]
          },
          "metadata": {},
          "execution_count": 8
        }
      ]
    },
    {
      "cell_type": "code",
      "source": [
        "stack1"
      ],
      "metadata": {
        "colab": {
          "base_uri": "https://localhost:8080/"
        },
        "id": "ron0dRUN0NE5",
        "outputId": "5d676a22-0990-4889-f89a-912bada6666f"
      },
      "execution_count": null,
      "outputs": [
        {
          "output_type": "execute_result",
          "data": {
            "text/plain": [
              "9, 8"
            ]
          },
          "metadata": {},
          "execution_count": 9
        }
      ]
    },
    {
      "cell_type": "code",
      "source": [
        "stack1.pop()"
      ],
      "metadata": {
        "colab": {
          "base_uri": "https://localhost:8080/"
        },
        "id": "NTxNv0rG0QF8",
        "outputId": "ee3790a6-d070-4d93-b450-0d3e44ebae78"
      },
      "execution_count": null,
      "outputs": [
        {
          "output_type": "execute_result",
          "data": {
            "text/plain": [
              "9"
            ]
          },
          "metadata": {},
          "execution_count": 10
        }
      ]
    },
    {
      "cell_type": "code",
      "source": [
        "stack1.push(13)\n",
        "stack1"
      ],
      "metadata": {
        "colab": {
          "base_uri": "https://localhost:8080/"
        },
        "id": "Sp6v8sz00S3L",
        "outputId": "8425cbe1-2e90-4a75-b677-78c42e71fec5"
      },
      "execution_count": null,
      "outputs": [
        {
          "output_type": "execute_result",
          "data": {
            "text/plain": [
              "13, 8"
            ]
          },
          "metadata": {},
          "execution_count": 11
        }
      ]
    },
    {
      "cell_type": "code",
      "source": [
        "stack1.push(1)\n",
        "stack1.push(12)\n",
        "stack1.push(14)\n",
        "stack1"
      ],
      "metadata": {
        "colab": {
          "base_uri": "https://localhost:8080/"
        },
        "id": "Bh4MVq9_0eMx",
        "outputId": "bf5ffaa0-ff72-48e8-d2e4-f14d913ce66f"
      },
      "execution_count": null,
      "outputs": [
        {
          "output_type": "execute_result",
          "data": {
            "text/plain": [
              "14, 12, 1, 13, 8"
            ]
          },
          "metadata": {},
          "execution_count": 12
        }
      ]
    }
  ]
}