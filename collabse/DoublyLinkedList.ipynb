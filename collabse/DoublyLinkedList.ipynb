{
  "nbformat": 4,
  "nbformat_minor": 0,
  "metadata": {
    "colab": {
      "provenance": []
    },
    "kernelspec": {
      "name": "python3",
      "display_name": "Python 3"
    },
    "language_info": {
      "name": "python"
    }
  },
  "cells": [
    {
      "cell_type": "code",
      "execution_count": null,
      "metadata": {
        "id": "h1nmBvqzyJb_"
      },
      "outputs": [],
      "source": [
        "class Node():\n",
        "    def __init__(self, a_number):\n",
        "        self.data = a_number\n",
        "        self.next = None\n",
        "\n",
        "class LinkedList():\n",
        "    def __init__(self,values=[]):\n",
        "        self.head = None\n",
        "        for value in values:\n",
        "          self.push(value)\n",
        "\n",
        "    def push(self, value):\n",
        "      node = Node(value)\n",
        "      node.next = self.head\n",
        "      self.head = node\n",
        "\n",
        "    def __iter__(self):\n",
        "      current = self.head\n",
        "      while current is not None:\n",
        "        yield current.data\n",
        "        current = current.next\n",
        "\n",
        "    def __repr__(self):\n",
        "      return \", \".join(map(str,self))\n",
        "\n",
        "    def __len__(self):\n",
        "        result = 0\n",
        "        for current in self:\n",
        "            result += 1\n",
        "        return result\n",
        "\n",
        "    def __getitem__(self, position):\n",
        "        i = 0\n",
        "        for current in self:\n",
        "            if i == position:\n",
        "                return current\n",
        "            i += 1\n",
        "        return None"
      ]
    },
    {
      "cell_type": "code",
      "source": [
        "a = LinkedList()"
      ],
      "metadata": {
        "id": "hAZDHMEPq0fa"
      },
      "execution_count": null,
      "outputs": []
    },
    {
      "cell_type": "markdown",
      "source": [
        "To test the emptiness of the list look at `a.head` property. If it is `None` then this means the list `a` is empty:"
      ],
      "metadata": {
        "id": "HpBQir0SrgKo"
      }
    },
    {
      "cell_type": "code",
      "source": [
        "if a.head is None:\n",
        "  print(\"The list is empty\")"
      ],
      "metadata": {
        "id": "v1sJwx3mruTi",
        "colab": {
          "base_uri": "https://localhost:8080/"
        },
        "outputId": "3088660f-d768-41ed-8325-001f79194159"
      },
      "execution_count": null,
      "outputs": [
        {
          "output_type": "stream",
          "name": "stdout",
          "text": [
            "The list is empty\n"
          ]
        }
      ]
    },
    {
      "cell_type": "markdown",
      "source": [
        "To add some nodes to the list `a` use `a.append()` method:"
      ],
      "metadata": {
        "id": "iSCNNCbAr8ai"
      }
    },
    {
      "cell_type": "code",
      "source": [
        "a.push(5)\n",
        "a.push(9)\n",
        "a.push(8)\n",
        "a.push(1)"
      ],
      "metadata": {
        "id": "W6ae44gksEWB"
      },
      "execution_count": null,
      "outputs": []
    },
    {
      "cell_type": "markdown",
      "source": [
        "To get the first node in the list `a` use the property `a.head`"
      ],
      "metadata": {
        "id": "URLobgcaq9pE"
      }
    },
    {
      "cell_type": "code",
      "source": [
        "node = a.head\n",
        "node.data"
      ],
      "metadata": {
        "id": "o-qv0QY-rEwJ",
        "colab": {
          "base_uri": "https://localhost:8080/"
        },
        "outputId": "7e3f8769-fe1c-407e-f720-0575652a5db8"
      },
      "execution_count": null,
      "outputs": [
        {
          "output_type": "execute_result",
          "data": {
            "text/plain": [
              "1"
            ]
          },
          "metadata": {},
          "execution_count": 102
        }
      ]
    },
    {
      "cell_type": "markdown",
      "source": [
        "To get the last node int the list `a` you must iterate over all the nodes in the list:"
      ],
      "metadata": {
        "id": "3JLYGAdbrN31"
      }
    },
    {
      "cell_type": "code",
      "source": [
        "while node.next is not None:\n",
        "  node = node.next"
      ],
      "metadata": {
        "id": "7OqYnYwQrXrR"
      },
      "execution_count": null,
      "outputs": []
    },
    {
      "cell_type": "markdown",
      "source": [
        "Now the variable `node` is here the last node in the list `a`."
      ],
      "metadata": {
        "id": "oII4JcxMsiiy"
      }
    },
    {
      "cell_type": "code",
      "source": [
        "node.data"
      ],
      "metadata": {
        "id": "K-z-460Pq8uF",
        "colab": {
          "base_uri": "https://localhost:8080/"
        },
        "outputId": "04b43dbd-5716-4f13-983e-25579f50769c"
      },
      "execution_count": null,
      "outputs": [
        {
          "output_type": "execute_result",
          "data": {
            "text/plain": [
              "5"
            ]
          },
          "metadata": {},
          "execution_count": 104
        }
      ]
    },
    {
      "cell_type": "markdown",
      "source": [
        "To access the last node of the list `a` we will add another property calld `tail` pointing to the last node in the list:"
      ],
      "metadata": {
        "id": "1Yc1gWJBzJXs"
      }
    },
    {
      "cell_type": "code",
      "source": [
        "class DoublyLinkedNode():\n",
        "    def __init__(self, a_number):\n",
        "        self.data = a_number\n",
        "        self.next = None\n",
        "        self.parent = None\n",
        "\n",
        "class DoublyLinkedList(LinkedList):\n",
        "    def __init__(self,values=[]):\n",
        "        self.head = None\n",
        "        self.tail = None\n",
        "        for value in values:\n",
        "          self.push(value)\n",
        "\n",
        "    def push(self, value):\n",
        "      node = DoublyLinkedNode(value)\n",
        "      node.next = self.head\n",
        "      node.next.parent = node\n",
        "      self.head = node\n",
        "      if self.tail is None:\n",
        "        self.tail = node\n",
        "\n",
        "    def append(self, value):\n",
        "      node = DoublyLinkedNode(value)\n",
        "      if self.tail is None:\n",
        "        self.tail = node\n",
        "        self.head = node\n",
        "      else:\n",
        "        node.parent = self.tail\n",
        "        node.parent.next = node\n",
        "        self.tail = node"
      ],
      "metadata": {
        "id": "wIZnt_fyzXfH"
      },
      "execution_count": null,
      "outputs": []
    },
    {
      "cell_type": "code",
      "source": [
        "b = DoublyLinkedList([2,8,4,1])\n",
        "b"
      ],
      "metadata": {
        "colab": {
          "base_uri": "https://localhost:8080/",
          "height": 304
        },
        "id": "cHaU8jq02gcR",
        "outputId": "398b8577-6a5d-4fc7-8b1c-368157be44c3"
      },
      "execution_count": null,
      "outputs": [
        {
          "output_type": "error",
          "ename": "AttributeError",
          "evalue": "'NoneType' object has no attribute 'parent'",
          "traceback": [
            "\u001b[0;31m---------------------------------------------------------------------------\u001b[0m",
            "\u001b[0;31mAttributeError\u001b[0m                            Traceback (most recent call last)",
            "\u001b[0;32m/tmp/ipython-input-598864361.py\u001b[0m in \u001b[0;36m<cell line: 0>\u001b[0;34m()\u001b[0m\n\u001b[0;32m----> 1\u001b[0;31m \u001b[0mb\u001b[0m \u001b[0;34m=\u001b[0m \u001b[0mDoublyLinkedList\u001b[0m\u001b[0;34m(\u001b[0m\u001b[0;34m[\u001b[0m\u001b[0;36m2\u001b[0m\u001b[0;34m,\u001b[0m\u001b[0;36m8\u001b[0m\u001b[0;34m,\u001b[0m\u001b[0;36m4\u001b[0m\u001b[0;34m,\u001b[0m\u001b[0;36m1\u001b[0m\u001b[0;34m]\u001b[0m\u001b[0;34m)\u001b[0m\u001b[0;34m\u001b[0m\u001b[0;34m\u001b[0m\u001b[0m\n\u001b[0m\u001b[1;32m      2\u001b[0m \u001b[0mb\u001b[0m\u001b[0;34m\u001b[0m\u001b[0;34m\u001b[0m\u001b[0m\n",
            "\u001b[0;32m/tmp/ipython-input-998024254.py\u001b[0m in \u001b[0;36m__init__\u001b[0;34m(self, values)\u001b[0m\n\u001b[1;32m     10\u001b[0m         \u001b[0mself\u001b[0m\u001b[0;34m.\u001b[0m\u001b[0mtail\u001b[0m \u001b[0;34m=\u001b[0m \u001b[0;32mNone\u001b[0m\u001b[0;34m\u001b[0m\u001b[0;34m\u001b[0m\u001b[0m\n\u001b[1;32m     11\u001b[0m         \u001b[0;32mfor\u001b[0m \u001b[0mvalue\u001b[0m \u001b[0;32min\u001b[0m \u001b[0mvalues\u001b[0m\u001b[0;34m:\u001b[0m\u001b[0;34m\u001b[0m\u001b[0;34m\u001b[0m\u001b[0m\n\u001b[0;32m---> 12\u001b[0;31m           \u001b[0mself\u001b[0m\u001b[0;34m.\u001b[0m\u001b[0mpush\u001b[0m\u001b[0;34m(\u001b[0m\u001b[0mvalue\u001b[0m\u001b[0;34m)\u001b[0m\u001b[0;34m\u001b[0m\u001b[0;34m\u001b[0m\u001b[0m\n\u001b[0m\u001b[1;32m     13\u001b[0m \u001b[0;34m\u001b[0m\u001b[0m\n\u001b[1;32m     14\u001b[0m     \u001b[0;32mdef\u001b[0m \u001b[0mpush\u001b[0m\u001b[0;34m(\u001b[0m\u001b[0mself\u001b[0m\u001b[0;34m,\u001b[0m \u001b[0mvalue\u001b[0m\u001b[0;34m)\u001b[0m\u001b[0;34m:\u001b[0m\u001b[0;34m\u001b[0m\u001b[0;34m\u001b[0m\u001b[0m\n",
            "\u001b[0;32m/tmp/ipython-input-998024254.py\u001b[0m in \u001b[0;36mpush\u001b[0;34m(self, value)\u001b[0m\n\u001b[1;32m     15\u001b[0m       \u001b[0mnode\u001b[0m \u001b[0;34m=\u001b[0m \u001b[0mDoublyLinkedNode\u001b[0m\u001b[0;34m(\u001b[0m\u001b[0mvalue\u001b[0m\u001b[0;34m)\u001b[0m\u001b[0;34m\u001b[0m\u001b[0;34m\u001b[0m\u001b[0m\n\u001b[1;32m     16\u001b[0m       \u001b[0mnode\u001b[0m\u001b[0;34m.\u001b[0m\u001b[0mnext\u001b[0m \u001b[0;34m=\u001b[0m \u001b[0mself\u001b[0m\u001b[0;34m.\u001b[0m\u001b[0mhead\u001b[0m\u001b[0;34m\u001b[0m\u001b[0;34m\u001b[0m\u001b[0m\n\u001b[0;32m---> 17\u001b[0;31m       \u001b[0mnode\u001b[0m\u001b[0;34m.\u001b[0m\u001b[0mnext\u001b[0m\u001b[0;34m.\u001b[0m\u001b[0mparent\u001b[0m \u001b[0;34m=\u001b[0m \u001b[0mnode\u001b[0m\u001b[0;34m\u001b[0m\u001b[0;34m\u001b[0m\u001b[0m\n\u001b[0m\u001b[1;32m     18\u001b[0m       \u001b[0mself\u001b[0m\u001b[0;34m.\u001b[0m\u001b[0mhead\u001b[0m \u001b[0;34m=\u001b[0m \u001b[0mnode\u001b[0m\u001b[0;34m\u001b[0m\u001b[0;34m\u001b[0m\u001b[0m\n\u001b[1;32m     19\u001b[0m       \u001b[0;32mif\u001b[0m \u001b[0mself\u001b[0m\u001b[0;34m.\u001b[0m\u001b[0mtail\u001b[0m \u001b[0;32mis\u001b[0m \u001b[0;32mNone\u001b[0m\u001b[0;34m:\u001b[0m\u001b[0;34m\u001b[0m\u001b[0;34m\u001b[0m\u001b[0m\n",
            "\u001b[0;31mAttributeError\u001b[0m: 'NoneType' object has no attribute 'parent'"
          ]
        }
      ]
    },
    {
      "cell_type": "code",
      "source": [
        "b.head.data"
      ],
      "metadata": {
        "id": "fIyI29EX2rf5"
      },
      "execution_count": null,
      "outputs": []
    },
    {
      "cell_type": "code",
      "source": [
        "b.tail.data"
      ],
      "metadata": {
        "id": "ND3LyGlI2tgx"
      },
      "execution_count": null,
      "outputs": []
    },
    {
      "cell_type": "code",
      "source": [
        "b.append(88)\n",
        "b"
      ],
      "metadata": {
        "id": "XFdHFnqy25E7"
      },
      "execution_count": null,
      "outputs": []
    },
    {
      "cell_type": "markdown",
      "source": [
        "# Queue"
      ],
      "metadata": {
        "id": "v9lYVQFl329n"
      }
    },
    {
      "cell_type": "code",
      "source": [
        "class Queue(LinkedList):\n",
        "  def pop(self):\n",
        "    head = self.head\n",
        "    self.head = self.head.next\n",
        "    return head.data\n",
        "\n",
        "  def push(self, value):\n",
        "    self.append(value)\n"
      ],
      "metadata": {
        "id": "DA93VyUg31EU"
      },
      "execution_count": null,
      "outputs": []
    }
  ]
}